{
 "cells": [
  {
   "cell_type": "code",
   "execution_count": 17,
   "id": "66788d86",
   "metadata": {},
   "outputs": [],
   "source": [
    "import pandas as pd\n",
    "\n",
    "TRAIN_DATA = \"C:\\\\Users\\\\X1\\\\Downloads\\\\digit-recognizer\\\\train.csv\"\n",
    "TEST_DATA = \"C:\\\\Users\\\\X1\\\\Downloads\\\\digit-recognizer\\\\test.csv\"\n",
    "################### Load train data ####################\n",
    "dfTrain = pd.read_csv(TRAIN_DATA)\n",
    "Y_train = dfTrain[['label']]\n",
    "X_train = dfTrain.drop([\"label\"],axis=1)\n"
   ]
  },
  {
   "cell_type": "code",
   "execution_count": 18,
   "id": "eef4d507",
   "metadata": {},
   "outputs": [
    {
     "data": {
      "text/plain": [
       "(28000, 784)"
      ]
     },
     "execution_count": 18,
     "metadata": {},
     "output_type": "execute_result"
    }
   ],
   "source": [
    "####################### Load test data #################\n",
    "dfTest = pd.read_csv(TEST_DATA)\n",
    "X_test = dfTest\n",
    "XX =X_train\n",
    "X_test.shape"
   ]
  },
  {
   "cell_type": "code",
   "execution_count": 19,
   "id": "3ca10806",
   "metadata": {},
   "outputs": [],
   "source": [
    "#from sklearn.preprocessing import Imputer as imp\n",
    "########################## Standarisation #######################################\n",
    "from sklearn.impute import SimpleImputer\n",
    "from sklearn.preprocessing import StandardScaler\n",
    "\n",
    "def min_normalization(xmat):\n",
    "    minn = xmat.min()\n",
    "    return xmat / minn\n",
    "\n",
    "def max_normalization(xmat):\n",
    "    maxx = xmat.max()\n",
    "    return xmat / maxx\n",
    "\n",
    "\n",
    "def mean_normalization(xmat):\n",
    "    im = SimpleImputer(missing_values=np.nan, strategy=\"mean\", fill_value=None, verbose=0, copy=True)\n",
    "    xmat = im.fit_transform(xmat)\n",
    "    return xmat\n",
    "    \n",
    "def zScore_Standarisation(xmat):\n",
    "    ssX = StandardScaler()\n",
    "    xmat = ssX.fit_transform(xmat)\n",
    "    return xmat"
   ]
  },
  {
   "cell_type": "code",
   "execution_count": 20,
   "id": "19a1ef9c",
   "metadata": {},
   "outputs": [],
   "source": [
    "########################### chi2 TEST ##########################\n",
    "from sklearn.feature_selection import SelectKBest, chi2\n",
    "def chi_square(X, y,nbf=100):\n",
    "    ch2 = SelectKBest(chi2, k=nbf)\n",
    "    my_transformed_matrix = ch2.fit_transform(X,y)\n",
    "    return my_transformed_matrix"
   ]
  },
  {
   "cell_type": "code",
   "execution_count": 21,
   "id": "a9226f60",
   "metadata": {},
   "outputs": [],
   "source": [
    "####################### LOG transformation ##################\n",
    "import numpy as np\n",
    "def Log_transform(mat):\n",
    "    mat = mat - mat.min() + 1\n",
    "    return np.log(mat)   "
   ]
  },
  {
   "cell_type": "code",
   "execution_count": 22,
   "id": "42094f80",
   "metadata": {},
   "outputs": [],
   "source": [
    "################################# sklearn - relief ##############\n",
    "import sklearn_relief as relief\n",
    "def apply_relief_selection(X,y,nbf=100):\n",
    "    r = relief.Relief(n_features=nbf) \n",
    "    my_transformed_matrix = r.fit_transform(X,y)\n",
    "    return my_transformed_matrix\n"
   ]
  },
  {
   "cell_type": "code",
   "execution_count": 23,
   "id": "9b913043",
   "metadata": {},
   "outputs": [],
   "source": [
    "######################### wrraper RFE feature selection ###########\n",
    "from sklearn.ensemble import RandomForestClassifier\n",
    "from sklearn.feature_selection import RFE\n",
    "def apply_rfe(X,y,threshold = 5):\n",
    "    global XX\n",
    "    model_rf = RandomForestClassifier(n_estimators=500, random_state=0, max_depth = 3)\n",
    "    selector = RFE(model_rf, n_features_to_select=threshold, step=1) \n",
    "    selector = selector.fit(X, y)\n",
    "    selector_ind = selector.get_support()\n",
    "    my_transformed_matrix = XX.iloc[:, selector_ind].values\n",
    "    return my_transformed_matrix\n"
   ]
  },
  {
   "cell_type": "code",
   "execution_count": 24,
   "id": "a963cfb1",
   "metadata": {},
   "outputs": [],
   "source": [
    "############################ embedded methode feature selection ####\n",
    "from sklearn.feature_selection import SelectFromModel\n",
    "def embedded_selection(x,y):\n",
    "    model_rf = RandomForestClassifier(n_estimators=500, random_state=0, max_depth = 3) \n",
    "    model_rf.fit(x, y)\n",
    "    global XX\n",
    "    sel_sfm = SelectFromModel(model_rf, prefit=True)\n",
    "    sel_sfm_index = sel_sfm.get_support()\n",
    "    my_transformed_matrix =  XX.iloc[:, sel_sfm_index].values\n",
    "    return my_transformed_matrix"
   ]
  },
  {
   "cell_type": "code",
   "execution_count": 25,
   "id": "3c7cdf46",
   "metadata": {},
   "outputs": [],
   "source": [
    "################################## PCA ##########################################\n",
    "from sklearn.decomposition import PCA\n",
    "def applyPCA(matt,p = 0.95):\n",
    "    pca = PCA(n_components = p)\n",
    "    pca.fit(matt)\n",
    "    matt = pca.transform(matt)\n",
    "    return matt"
   ]
  },
  {
   "cell_type": "code",
   "execution_count": 26,
   "id": "912e633d",
   "metadata": {},
   "outputs": [],
   "source": [
    "######################### Split train+test #######################################\n",
    "from sklearn.model_selection import train_test_split\n",
    "def split_data(X,y):\n",
    "    X_train, X_test, y_train, y_test = train_test_split(X, y, test_size = .20,random_state=42)\n",
    "    return (X_train, X_test, y_train, y_test)\n"
   ]
  },
  {
   "cell_type": "code",
   "execution_count": 27,
   "id": "41915610",
   "metadata": {},
   "outputs": [],
   "source": [
    "from time import time\n",
    "from sklearn.svm import SVC\n",
    "def train_predict(X_train, X_test, y_train, y_test,typee):\n",
    "    print(\"#####################  \", typee ,\" #########################\")\n",
    "    svclassifier = SVC(kernel='rbf') #0.9591836734693877\n",
    "    t0 = time()\n",
    "    svclassifier.fit(X_train, y_train) \n",
    "\n",
    "    y_pred = svclassifier.predict(X_test)\n",
    "    t1 = time()\n",
    "    ######################## Evaluating the Algorithm ########################\n",
    "    from sklearn.metrics import classification_report, confusion_matrix,accuracy_score\n",
    "    print(confusion_matrix(y_test, y_pred))\n",
    "    print(classification_report(y_test, y_pred))\n",
    "    print(\"SVM accueacy : \",accuracy_score(y_test,y_pred))\n",
    "    print(\"Time : \",t1 - t0)\n",
    "    print(\"#########################################################\")"
   ]
  },
  {
   "cell_type": "code",
   "execution_count": 13,
   "id": "343aeeb0",
   "metadata": {},
   "outputs": [
    {
     "name": "stdout",
     "output_type": "stream",
     "text": [
      "#####################    raw data   #########################\n",
      "[[807   0   0   0   2   1   4   0   1   1]\n",
      " [  0 902   1   1   1   1   0   1   1   1]\n",
      " [  3   3 820   2   8   0   3   3   4   0]\n",
      " [  1   3   5 898   0   9   0   6  11   4]\n",
      " [  1   0   1   0 815   1   5   3   0  13]\n",
      " [  1   1   1   8   2 679   6   0   2   2]\n",
      " [  3   1   0   0   0   1 777   0   3   0]\n",
      " [  0   2   7   0   4   1   0 867   2  10]\n",
      " [  1   2   3   7   5   4   0   2 810   1]\n",
      " [  2   2   1  10  10   1   0   7   3 802]]\n",
      "              precision    recall  f1-score   support\n",
      "\n",
      "           0       0.99      0.99      0.99       816\n",
      "           1       0.98      0.99      0.99       909\n",
      "           2       0.98      0.97      0.97       846\n",
      "           3       0.97      0.96      0.96       937\n",
      "           4       0.96      0.97      0.97       839\n",
      "           5       0.97      0.97      0.97       702\n",
      "           6       0.98      0.99      0.98       785\n",
      "           7       0.98      0.97      0.97       893\n",
      "           8       0.97      0.97      0.97       835\n",
      "           9       0.96      0.96      0.96       838\n",
      "\n",
      "    accuracy                           0.97      8400\n",
      "   macro avg       0.97      0.97      0.97      8400\n",
      "weighted avg       0.97      0.97      0.97      8400\n",
      "\n",
      "SVM accueacy :  0.973452380952381\n",
      "Time :  149.9478030204773\n",
      "#########################################################\n"
     ]
    }
   ],
   "source": [
    "X_tr, X_t, y_tr, y_t = split_data(X_train,Y_train)\n",
    "train_predict(X_tr, X_t, y_tr, y_t,\" raw data \") ### row data without any feature selection "
   ]
  },
  {
   "cell_type": "code",
   "execution_count": 14,
   "id": "48426948",
   "metadata": {},
   "outputs": [
    {
     "name": "stdout",
     "output_type": "stream",
     "text": [
      "#####################    Log transformation   #########################\n",
      "[[808   0   0   0   2   0   5   0   1   0]\n",
      " [  0 901   2   0   1   1   1   1   1   1]\n",
      " [  1   5 821   2   7   0   1   2   7   0]\n",
      " [  0   3   5 899   0   9   0   5   9   7]\n",
      " [  1   0   1   0 819   1   4   2   0  11]\n",
      " [  1   1   0  13   1 672   8   0   2   4]\n",
      " [  2   1   0   0   0   1 777   0   4   0]\n",
      " [  0   2   5   0   6   0   0 867   3  10]\n",
      " [  1   6   2   5   4   3   0   2 810   2]\n",
      " [  1   1   1  10   3   1   0   8   4 809]]\n",
      "              precision    recall  f1-score   support\n",
      "\n",
      "           0       0.99      0.99      0.99       816\n",
      "           1       0.98      0.99      0.99       909\n",
      "           2       0.98      0.97      0.98       846\n",
      "           3       0.97      0.96      0.96       937\n",
      "           4       0.97      0.98      0.97       839\n",
      "           5       0.98      0.96      0.97       702\n",
      "           6       0.98      0.99      0.98       785\n",
      "           7       0.98      0.97      0.97       893\n",
      "           8       0.96      0.97      0.97       835\n",
      "           9       0.96      0.97      0.96       838\n",
      "\n",
      "    accuracy                           0.97      8400\n",
      "   macro avg       0.97      0.97      0.97      8400\n",
      "weighted avg       0.97      0.97      0.97      8400\n",
      "\n",
      "SVM accueacy :  0.9741666666666666\n",
      "Time :  138.72002363204956\n",
      "#########################################################\n"
     ]
    }
   ],
   "source": [
    "X_l =  Log_transform(X_train)\n",
    "X_trl, X_ttl, y_trl, y_ttl = split_data(X_l,Y_train)\n",
    "train_predict(X_trl, X_ttl, y_trl, y_ttl,\" Log transformation \") ### Log transformation "
   ]
  },
  {
   "cell_type": "code",
   "execution_count": 15,
   "id": "467bc5df",
   "metadata": {},
   "outputs": [
    {
     "name": "stdout",
     "output_type": "stream",
     "text": [
      "#####################    mean normalization    #########################\n",
      "[[807   0   0   0   2   1   4   0   1   1]\n",
      " [  0 902   1   1   1   1   0   1   1   1]\n",
      " [  3   3 820   2   8   0   3   3   4   0]\n",
      " [  1   3   5 898   0   9   0   6  11   4]\n",
      " [  1   0   1   0 815   1   5   3   0  13]\n",
      " [  1   1   1   8   2 679   6   0   2   2]\n",
      " [  3   1   0   0   0   1 777   0   3   0]\n",
      " [  0   2   7   0   4   1   0 867   2  10]\n",
      " [  1   2   3   7   5   4   0   2 810   1]\n",
      " [  2   2   1  10  10   1   0   7   3 802]]\n",
      "              precision    recall  f1-score   support\n",
      "\n",
      "           0       0.99      0.99      0.99       816\n",
      "           1       0.98      0.99      0.99       909\n",
      "           2       0.98      0.97      0.97       846\n",
      "           3       0.97      0.96      0.96       937\n",
      "           4       0.96      0.97      0.97       839\n",
      "           5       0.97      0.97      0.97       702\n",
      "           6       0.98      0.99      0.98       785\n",
      "           7       0.98      0.97      0.97       893\n",
      "           8       0.97      0.97      0.97       835\n",
      "           9       0.96      0.96      0.96       838\n",
      "\n",
      "    accuracy                           0.97      8400\n",
      "   macro avg       0.97      0.97      0.97      8400\n",
      "weighted avg       0.97      0.97      0.97      8400\n",
      "\n",
      "SVM accueacy :  0.973452380952381\n",
      "Time :  145.88661909103394\n",
      "#########################################################\n"
     ]
    }
   ],
   "source": [
    "X_N =  mean_normalization(X_train)\n",
    "X_trn, X_ttn, y_trn, y_ttn = split_data(X_N,Y_train)\n",
    "train_predict(X_trn, X_ttn, y_trn, y_ttn,\" mean normalization  \") ### mean normalization"
   ]
  },
  {
   "cell_type": "code",
   "execution_count": 16,
   "id": "d7c52e7c",
   "metadata": {},
   "outputs": [
    {
     "name": "stdout",
     "output_type": "stream",
     "text": [
      "#####################    zscore standarization    #########################\n",
      "[[801   0   3   0   1   3   7   0   1   0]\n",
      " [  0 892   9   1   1   1   1   1   2   1]\n",
      " [  2   6 820   3   4   0   4   2   5   0]\n",
      " [  1   3  12 884   0  11   0   9  12   5]\n",
      " [  1   0  11   0 805   1   5   4   0  12]\n",
      " [  2   1   8  14   1 663  10   1   2   0]\n",
      " [  5   1  11   0   0   6 760   0   2   0]\n",
      " [  0   2  11   3   5   2   0 855   1  14]\n",
      " [  1   4   9  10   4   8   4   2 791   2]\n",
      " [  2   2   6  12   7   3   0  19   4 783]]\n",
      "              precision    recall  f1-score   support\n",
      "\n",
      "           0       0.98      0.98      0.98       816\n",
      "           1       0.98      0.98      0.98       909\n",
      "           2       0.91      0.97      0.94       846\n",
      "           3       0.95      0.94      0.95       937\n",
      "           4       0.97      0.96      0.97       839\n",
      "           5       0.95      0.94      0.95       702\n",
      "           6       0.96      0.97      0.96       785\n",
      "           7       0.96      0.96      0.96       893\n",
      "           8       0.96      0.95      0.96       835\n",
      "           9       0.96      0.93      0.95       838\n",
      "\n",
      "    accuracy                           0.96      8400\n",
      "   macro avg       0.96      0.96      0.96      8400\n",
      "weighted avg       0.96      0.96      0.96      8400\n",
      "\n",
      "SVM accueacy :  0.9588095238095238\n",
      "Time :  230.44645953178406\n",
      "#########################################################\n"
     ]
    }
   ],
   "source": [
    "X_s =  zScore_Standarisation(X_train)\n",
    "X_trs, X_tts, y_trs, y_tts = split_data(X_s,Y_train)\n",
    "train_predict(X_trs, X_tts, y_trs, y_tts,\" zscore standarization  \") ### z-score standarisation"
   ]
  },
  {
   "cell_type": "code",
   "execution_count": 17,
   "id": "aeae9e45",
   "metadata": {},
   "outputs": [
    {
     "name": "stdout",
     "output_type": "stream",
     "text": [
      "#####################   TL + Stand    #########################\n",
      "[[805   0   1   1   1   1   5   1   1   0]\n",
      " [  0 890   3   1   1   1   2   7   3   1]\n",
      " [  1   5 814   4   3   1   3   6   7   2]\n",
      " [  1   3   9 884   0  10   0  10  13   7]\n",
      " [  1   0   6   0 808   1   5   5   0  13]\n",
      " [  2   1   0  16   2 662  11   6   2   0]\n",
      " [  3   1   0   0   0   5 765   9   2   0]\n",
      " [  0   3   7   6   6   1   0 856   0  14]\n",
      " [  1   7   5   7   4   9   1   7 792   2]\n",
      " [  2   1   2  13   4   2   0  16   4 794]]\n",
      "              precision    recall  f1-score   support\n",
      "\n",
      "           0       0.99      0.99      0.99       816\n",
      "           1       0.98      0.98      0.98       909\n",
      "           2       0.96      0.96      0.96       846\n",
      "           3       0.95      0.94      0.95       937\n",
      "           4       0.97      0.96      0.97       839\n",
      "           5       0.96      0.94      0.95       702\n",
      "           6       0.97      0.97      0.97       785\n",
      "           7       0.93      0.96      0.94       893\n",
      "           8       0.96      0.95      0.95       835\n",
      "           9       0.95      0.95      0.95       838\n",
      "\n",
      "    accuracy                           0.96      8400\n",
      "   macro avg       0.96      0.96      0.96      8400\n",
      "weighted avg       0.96      0.96      0.96      8400\n",
      "\n",
      "SVM accueacy :  0.9607142857142857\n",
      "Time :  209.22879672050476\n",
      "#########################################################\n"
     ]
    }
   ],
   "source": [
    "X_ll =  Log_transform(X_train)\n",
    "X_ls =  zScore_Standarisation(X_ll)\n",
    "X_trls, X_ttls, y_trls, y_ttls = split_data(X_ls,Y_train)\n",
    "train_predict(X_trls, X_ttls, y_trls, y_ttls,\"TL + Stand  \") ### TL + z-score standarisation"
   ]
  },
  {
   "cell_type": "code",
   "execution_count": 19,
   "id": "867f50f2",
   "metadata": {},
   "outputs": [
    {
     "name": "stdout",
     "output_type": "stream",
     "text": [
      "#####################   TL + min noraml    #########################\n",
      "[[808   0   0   0   2   0   5   0   1   0]\n",
      " [  0 901   2   0   1   1   1   1   1   1]\n",
      " [  1   5 821   2   7   0   1   2   7   0]\n",
      " [  0   3   5 899   0   9   0   5   9   7]\n",
      " [  1   0   1   0 819   1   4   2   0  11]\n",
      " [  1   1   0  13   1 672   8   0   2   4]\n",
      " [  2   1   0   0   0   1 777   0   4   0]\n",
      " [  0   2   5   0   6   0   0 867   3  10]\n",
      " [  1   6   2   5   4   3   0   2 810   2]\n",
      " [  1   1   1  10   3   1   0   8   4 809]]\n",
      "              precision    recall  f1-score   support\n",
      "\n",
      "           0       0.99      0.99      0.99       816\n",
      "           1       0.98      0.99      0.99       909\n",
      "           2       0.98      0.97      0.98       846\n",
      "           3       0.97      0.96      0.96       937\n",
      "           4       0.97      0.98      0.97       839\n",
      "           5       0.98      0.96      0.97       702\n",
      "           6       0.98      0.99      0.98       785\n",
      "           7       0.98      0.97      0.97       893\n",
      "           8       0.96      0.97      0.97       835\n",
      "           9       0.96      0.97      0.96       838\n",
      "\n",
      "    accuracy                           0.97      8400\n",
      "   macro avg       0.97      0.97      0.97      8400\n",
      "weighted avg       0.97      0.97      0.97      8400\n",
      "\n",
      "SVM accueacy :  0.9741666666666666\n",
      "Time :  154.44987750053406\n",
      "#########################################################\n"
     ]
    }
   ],
   "source": [
    "X_lll =  Log_transform(X_train)\n",
    "X_lm =  max_normalization(X_lll)\n",
    "X_trlm, X_ttlm, y_trlm, y_ttlm = split_data(X_lm,Y_train)\n",
    "train_predict(X_trlm, X_ttlm, y_trlm, y_ttlm,\"TL + max noraml  \") ### TL + max normalization"
   ]
  },
  {
   "cell_type": "code",
   "execution_count": 21,
   "id": "a461f637",
   "metadata": {},
   "outputs": [
    {
     "name": "stdout",
     "output_type": "stream",
     "text": [
      "#####################    PCA .95   #########################\n",
      "[[808   0   0   0   2   0   4   0   1   1]\n",
      " [  0 903   1   0   1   1   0   1   1   1]\n",
      " [  2   3 824   2   7   0   2   2   4   0]\n",
      " [  0   1   4 905   0   9   0   4  10   4]\n",
      " [  1   0   1   0 818   1   4   2   0  12]\n",
      " [  1   1   1   7   2 682   4   0   2   2]\n",
      " [  3   1   0   0   0   1 777   0   3   0]\n",
      " [  0   2   5   0   4   1   0 871   2   8]\n",
      " [  1   2   3   3   3   3   0   2 817   1]\n",
      " [  2   1   1   9   7   2   0   6   3 807]]\n",
      "              precision    recall  f1-score   support\n",
      "\n",
      "           0       0.99      0.99      0.99       816\n",
      "           1       0.99      0.99      0.99       909\n",
      "           2       0.98      0.97      0.98       846\n",
      "           3       0.98      0.97      0.97       937\n",
      "           4       0.97      0.97      0.97       839\n",
      "           5       0.97      0.97      0.97       702\n",
      "           6       0.98      0.99      0.99       785\n",
      "           7       0.98      0.98      0.98       893\n",
      "           8       0.97      0.98      0.97       835\n",
      "           9       0.97      0.96      0.96       838\n",
      "\n",
      "    accuracy                           0.98      8400\n",
      "   macro avg       0.98      0.98      0.98      8400\n",
      "weighted avg       0.98      0.98      0.98      8400\n",
      "\n",
      "SVM accueacy :  0.9776190476190476\n",
      "Time :  64.95401191711426\n",
      "#########################################################\n"
     ]
    }
   ],
   "source": [
    "X_pca95 =  applyPCA (X_train,p=.95)\n",
    "X_tr95, X_tt95, y_tr95, y_ttp95 = split_data(X_pca95,Y_train)\n",
    "train_predict(X_tr95, X_tt95, y_tr95, y_ttp95,\" PCA .95 \") ### PCA .95"
   ]
  },
  {
   "cell_type": "code",
   "execution_count": 22,
   "id": "fd044e6e",
   "metadata": {},
   "outputs": [
    {
     "name": "stdout",
     "output_type": "stream",
     "text": [
      "#####################    PCA .10   #########################\n",
      "[[627   0  41  14   1  15 105   0  12   1]\n",
      " [  0 867   3   1   0  13   1   4  20   0]\n",
      " [107  23 188 146  36  36 137   8 165   0]\n",
      " [ 28  18  61 472  17  47  60   9 223   2]\n",
      " [  1  11   0   0 506  17  54 132   6 112]\n",
      " [ 58  16 101  93  59  90 141   7 136   1]\n",
      " [ 93  15  52  20  67  25 352   1 159   1]\n",
      " [  0  38   0   1 269  17  28 420   9 111]\n",
      " [ 50  19  53 122  38  54 161   6 332   0]\n",
      " [  6  15   4   1 360  12  43 236  10 151]]\n",
      "              precision    recall  f1-score   support\n",
      "\n",
      "           0       0.65      0.77      0.70       816\n",
      "           1       0.85      0.95      0.90       909\n",
      "           2       0.37      0.22      0.28       846\n",
      "           3       0.54      0.50      0.52       937\n",
      "           4       0.37      0.60      0.46       839\n",
      "           5       0.28      0.13      0.18       702\n",
      "           6       0.33      0.45      0.38       785\n",
      "           7       0.51      0.47      0.49       893\n",
      "           8       0.31      0.40      0.35       835\n",
      "           9       0.40      0.18      0.25       838\n",
      "\n",
      "    accuracy                           0.48      8400\n",
      "   macro avg       0.46      0.47      0.45      8400\n",
      "weighted avg       0.47      0.48      0.46      8400\n",
      "\n",
      "SVM accueacy :  0.4767857142857143\n",
      "Time :  128.36551117897034\n",
      "#########################################################\n"
     ]
    }
   ],
   "source": [
    "X_pca10 =  applyPCA (X_train,p=.10)\n",
    "X_tr10, X_tt10, y_tr10, y_ttp10 = split_data(X_pca10,Y_train)\n",
    "train_predict(X_tr10, X_tt10, y_tr10, y_ttp10,\" PCA .10 \") ### PCA .10"
   ]
  },
  {
   "cell_type": "code",
   "execution_count": 23,
   "id": "62daa702",
   "metadata": {},
   "outputs": [
    {
     "name": "stdout",
     "output_type": "stream",
     "text": [
      "#####################    Chi 2    #########################\n",
      "[[807   0   1   0   2   1   5   0   0   0]\n",
      " [  0 901   1   0   1   1   2   1   2   0]\n",
      " [  3   2 809   3   5   3   3  12   5   1]\n",
      " [  0   3   6 893   1  18   0   8   7   1]\n",
      " [  2   2   0   0 771   0   7   1   3  53]\n",
      " [  1   1   2  17   1 668   7   0   2   3]\n",
      " [  4   1   2   0   0   3 772   0   3   0]\n",
      " [  0   7   8   1  13   1   0 857   1   5]\n",
      " [  1   6   4   2   3   3   5   3 805   3]\n",
      " [  2   3   1   8  20   5   1   9   4 785]]\n",
      "              precision    recall  f1-score   support\n",
      "\n",
      "           0       0.98      0.99      0.99       816\n",
      "           1       0.97      0.99      0.98       909\n",
      "           2       0.97      0.96      0.96       846\n",
      "           3       0.97      0.95      0.96       937\n",
      "           4       0.94      0.92      0.93       839\n",
      "           5       0.95      0.95      0.95       702\n",
      "           6       0.96      0.98      0.97       785\n",
      "           7       0.96      0.96      0.96       893\n",
      "           8       0.97      0.96      0.97       835\n",
      "           9       0.92      0.94      0.93       838\n",
      "\n",
      "    accuracy                           0.96      8400\n",
      "   macro avg       0.96      0.96      0.96      8400\n",
      "weighted avg       0.96      0.96      0.96      8400\n",
      "\n",
      "SVM accueacy :  0.9604761904761905\n",
      "Time :  81.47054481506348\n",
      "#########################################################\n"
     ]
    }
   ],
   "source": [
    "X_chi2 = chi_square(X_train,Y_train,nbf=200)\n",
    "X_trchi, X_ttchi, y_trchi, y_ttpchi = split_data(X_chi2,Y_train)\n",
    "train_predict(X_trchi, X_ttchi, y_trchi, y_ttpchi,\" Chi 2  \") ### CHI2"
   ]
  },
  {
   "cell_type": "code",
   "execution_count": 24,
   "id": "29ef13fb",
   "metadata": {},
   "outputs": [
    {
     "name": "stdout",
     "output_type": "stream",
     "text": [
      "#####################    RELIF 100    #########################\n",
      "[[794   0   4   2   0   9   1   4   1   1]\n",
      " [  0 902   3   0   1   0   2   1   0   0]\n",
      " [  7   8 778   7  10   7   5  12   3   9]\n",
      " [  3   1  25 858   1  14   1   7  13  14]\n",
      " [  1   1   1   0 804   0   9   3   3  17]\n",
      " [  4   2   0  10   2 663   9   4   5   3]\n",
      " [  3   1   1   2   4  10 761   0   3   0]\n",
      " [  5   2  18   6   5   0   1 842   1  13]\n",
      " [  2   2   8  18   4  13   0   4 777   7]\n",
      " [  3   2   9   7   6   9   0  14   7 781]]\n",
      "              precision    recall  f1-score   support\n",
      "\n",
      "           0       0.97      0.97      0.97       816\n",
      "           1       0.98      0.99      0.99       909\n",
      "           2       0.92      0.92      0.92       846\n",
      "           3       0.94      0.92      0.93       937\n",
      "           4       0.96      0.96      0.96       839\n",
      "           5       0.91      0.94      0.93       702\n",
      "           6       0.96      0.97      0.97       785\n",
      "           7       0.95      0.94      0.94       893\n",
      "           8       0.96      0.93      0.94       835\n",
      "           9       0.92      0.93      0.93       838\n",
      "\n",
      "    accuracy                           0.95      8400\n",
      "   macro avg       0.95      0.95      0.95      8400\n",
      "weighted avg       0.95      0.95      0.95      8400\n",
      "\n",
      "SVM accueacy :  0.9476190476190476\n",
      "Time :  136.62276983261108\n",
      "#########################################################\n"
     ]
    }
   ],
   "source": [
    "X_relief100 = apply_relief_selection(X_train,Y_train,nbf=100)\n",
    "X_rlf100, X_lrf100, y_lrf100, y_frf100 = split_data(X_relief100,Y_train)\n",
    "train_predict(X_rlf100, X_lrf100, y_lrf100, y_frf100,\" RELIF 100  \") ###  RELIEF 100"
   ]
  },
  {
   "cell_type": "code",
   "execution_count": 25,
   "id": "026d1fa0",
   "metadata": {},
   "outputs": [
    {
     "name": "stdout",
     "output_type": "stream",
     "text": [
      "#####################    RELief 10   #########################\n",
      "[[459   8  34  36  10 130  54  35  13  37]\n",
      " [  1 661   4   9  81   2 139   8   1   3]\n",
      " [ 88  60 204 139  78  68  50  27  55  77]\n",
      " [ 52 102  75 378  24  28  51  33 104  90]\n",
      " [  4  94  22   7 558   2  77  29  18  28]\n",
      " [113   8   6   9  16 340  83  87  28  12]\n",
      " [ 25  82   1   4  76  26 517  38   7   9]\n",
      " [ 24  23   5  21  47  73  20 510  13 157]\n",
      " [109  18  53 148  32  95  48  23 216  93]\n",
      " [ 72  14  11  52  23  64  23  99  58 422]]\n",
      "              precision    recall  f1-score   support\n",
      "\n",
      "           0       0.48      0.56      0.52       816\n",
      "           1       0.62      0.73      0.67       909\n",
      "           2       0.49      0.24      0.32       846\n",
      "           3       0.47      0.40      0.43       937\n",
      "           4       0.59      0.67      0.63       839\n",
      "           5       0.41      0.48      0.44       702\n",
      "           6       0.49      0.66      0.56       785\n",
      "           7       0.57      0.57      0.57       893\n",
      "           8       0.42      0.26      0.32       835\n",
      "           9       0.45      0.50      0.48       838\n",
      "\n",
      "    accuracy                           0.51      8400\n",
      "   macro avg       0.50      0.51      0.49      8400\n",
      "weighted avg       0.50      0.51      0.50      8400\n",
      "\n",
      "SVM accueacy :  0.5077380952380952\n",
      "Time :  131.6882119178772\n",
      "#########################################################\n"
     ]
    }
   ],
   "source": [
    "X_relief10 = apply_relief_selection(X_train,Y_train,nbf=10)\n",
    "X_rlf10, X_lrf10, y_lrf10, y_frf10 = split_data(X_relief10,Y_train)\n",
    "train_predict(X_rlf10, X_lrf10, y_lrf10, y_frf10,\" RELief 10 \") ###  RELIEF 10"
   ]
  },
  {
   "cell_type": "code",
   "execution_count": 38,
   "id": "47e83713",
   "metadata": {},
   "outputs": [
    {
     "ename": "KeyboardInterrupt",
     "evalue": "",
     "output_type": "error",
     "traceback": [
      "\u001b[1;31m---------------------------------------------------------------------------\u001b[0m",
      "\u001b[1;31mKeyboardInterrupt\u001b[0m                         Traceback (most recent call last)",
      "\u001b[1;32m~\\AppData\\Local\\Temp/ipykernel_1928/3012337499.py\u001b[0m in \u001b[0;36m<module>\u001b[1;34m\u001b[0m\n\u001b[1;32m----> 1\u001b[1;33m \u001b[0mX_ref100\u001b[0m \u001b[1;33m=\u001b[0m \u001b[0mapply_rfe\u001b[0m\u001b[1;33m(\u001b[0m\u001b[0mX_train\u001b[0m\u001b[1;33m,\u001b[0m\u001b[0mY_train\u001b[0m\u001b[1;33m,\u001b[0m\u001b[0mthreshold\u001b[0m \u001b[1;33m=\u001b[0m \u001b[1;36m100\u001b[0m\u001b[1;33m)\u001b[0m\u001b[1;33m\u001b[0m\u001b[1;33m\u001b[0m\u001b[0m\n\u001b[0m\u001b[0;32m      2\u001b[0m \u001b[1;33m\u001b[0m\u001b[0m\n\u001b[0;32m      3\u001b[0m \u001b[0mX_train_f100\u001b[0m\u001b[1;33m,\u001b[0m \u001b[0mX_test_f100\u001b[0m\u001b[1;33m,\u001b[0m \u001b[0my_train_f100\u001b[0m\u001b[1;33m,\u001b[0m \u001b[0my_test_f100\u001b[0m \u001b[1;33m=\u001b[0m \u001b[0msplit_data\u001b[0m\u001b[1;33m(\u001b[0m\u001b[0mX_ref100\u001b[0m\u001b[1;33m,\u001b[0m\u001b[0mY_train\u001b[0m\u001b[1;33m)\u001b[0m\u001b[1;33m\u001b[0m\u001b[1;33m\u001b[0m\u001b[0m\n\u001b[0;32m      4\u001b[0m \u001b[0mtrain_predict\u001b[0m\u001b[1;33m(\u001b[0m\u001b[0mX_train_f100\u001b[0m\u001b[1;33m,\u001b[0m \u001b[0mX_test_f100\u001b[0m\u001b[1;33m,\u001b[0m \u001b[0my_train_f100\u001b[0m\u001b[1;33m,\u001b[0m \u001b[0my_test_f100\u001b[0m\u001b[1;33m,\u001b[0m \u001b[1;34m\"REF 100\"\u001b[0m\u001b[1;33m)\u001b[0m  \u001b[1;31m#### REF 100\u001b[0m\u001b[1;33m\u001b[0m\u001b[1;33m\u001b[0m\u001b[0m\n",
      "\u001b[1;32m~\\AppData\\Local\\Temp/ipykernel_1928/2628494101.py\u001b[0m in \u001b[0;36mapply_rfe\u001b[1;34m(X, y, threshold)\u001b[0m\n\u001b[0;32m      6\u001b[0m     \u001b[0mmodel_rf\u001b[0m \u001b[1;33m=\u001b[0m \u001b[0mRandomForestClassifier\u001b[0m\u001b[1;33m(\u001b[0m\u001b[0mn_estimators\u001b[0m\u001b[1;33m=\u001b[0m\u001b[1;36m500\u001b[0m\u001b[1;33m,\u001b[0m \u001b[0mrandom_state\u001b[0m\u001b[1;33m=\u001b[0m\u001b[1;36m0\u001b[0m\u001b[1;33m,\u001b[0m \u001b[0mmax_depth\u001b[0m \u001b[1;33m=\u001b[0m \u001b[1;36m3\u001b[0m\u001b[1;33m)\u001b[0m\u001b[1;33m\u001b[0m\u001b[1;33m\u001b[0m\u001b[0m\n\u001b[0;32m      7\u001b[0m     \u001b[0mselector\u001b[0m \u001b[1;33m=\u001b[0m \u001b[0mRFE\u001b[0m\u001b[1;33m(\u001b[0m\u001b[0mmodel_rf\u001b[0m\u001b[1;33m,\u001b[0m \u001b[0mn_features_to_select\u001b[0m\u001b[1;33m=\u001b[0m\u001b[0mthreshold\u001b[0m\u001b[1;33m,\u001b[0m \u001b[0mstep\u001b[0m\u001b[1;33m=\u001b[0m\u001b[1;36m1\u001b[0m\u001b[1;33m)\u001b[0m\u001b[1;33m\u001b[0m\u001b[1;33m\u001b[0m\u001b[0m\n\u001b[1;32m----> 8\u001b[1;33m     \u001b[0mselector\u001b[0m \u001b[1;33m=\u001b[0m \u001b[0mselector\u001b[0m\u001b[1;33m.\u001b[0m\u001b[0mfit\u001b[0m\u001b[1;33m(\u001b[0m\u001b[0mX\u001b[0m\u001b[1;33m,\u001b[0m \u001b[0my\u001b[0m\u001b[1;33m)\u001b[0m\u001b[1;33m\u001b[0m\u001b[1;33m\u001b[0m\u001b[0m\n\u001b[0m\u001b[0;32m      9\u001b[0m     \u001b[0mselector_ind\u001b[0m \u001b[1;33m=\u001b[0m \u001b[0mselector\u001b[0m\u001b[1;33m.\u001b[0m\u001b[0mget_support\u001b[0m\u001b[1;33m(\u001b[0m\u001b[1;33m)\u001b[0m\u001b[1;33m\u001b[0m\u001b[1;33m\u001b[0m\u001b[0m\n\u001b[0;32m     10\u001b[0m     \u001b[0mmy_transformed_matrix\u001b[0m \u001b[1;33m=\u001b[0m \u001b[0mXX\u001b[0m\u001b[1;33m.\u001b[0m\u001b[0miloc\u001b[0m\u001b[1;33m[\u001b[0m\u001b[1;33m:\u001b[0m\u001b[1;33m,\u001b[0m \u001b[0mselector_ind\u001b[0m\u001b[1;33m]\u001b[0m\u001b[1;33m.\u001b[0m\u001b[0mvalues\u001b[0m\u001b[1;33m\u001b[0m\u001b[1;33m\u001b[0m\u001b[0m\n",
      "\u001b[1;32m~\\anaconda3\\envs\\deepl\\lib\\site-packages\\sklearn\\feature_selection\\_rfe.py\u001b[0m in \u001b[0;36mfit\u001b[1;34m(self, X, y, **fit_params)\u001b[0m\n\u001b[0;32m    220\u001b[0m             \u001b[0mFitted\u001b[0m \u001b[0mestimator\u001b[0m\u001b[1;33m.\u001b[0m\u001b[1;33m\u001b[0m\u001b[1;33m\u001b[0m\u001b[0m\n\u001b[0;32m    221\u001b[0m         \"\"\"\n\u001b[1;32m--> 222\u001b[1;33m         \u001b[1;32mreturn\u001b[0m \u001b[0mself\u001b[0m\u001b[1;33m.\u001b[0m\u001b[0m_fit\u001b[0m\u001b[1;33m(\u001b[0m\u001b[0mX\u001b[0m\u001b[1;33m,\u001b[0m \u001b[0my\u001b[0m\u001b[1;33m,\u001b[0m \u001b[1;33m**\u001b[0m\u001b[0mfit_params\u001b[0m\u001b[1;33m)\u001b[0m\u001b[1;33m\u001b[0m\u001b[1;33m\u001b[0m\u001b[0m\n\u001b[0m\u001b[0;32m    223\u001b[0m \u001b[1;33m\u001b[0m\u001b[0m\n\u001b[0;32m    224\u001b[0m     \u001b[1;32mdef\u001b[0m \u001b[0m_fit\u001b[0m\u001b[1;33m(\u001b[0m\u001b[0mself\u001b[0m\u001b[1;33m,\u001b[0m \u001b[0mX\u001b[0m\u001b[1;33m,\u001b[0m \u001b[0my\u001b[0m\u001b[1;33m,\u001b[0m \u001b[0mstep_score\u001b[0m\u001b[1;33m=\u001b[0m\u001b[1;32mNone\u001b[0m\u001b[1;33m,\u001b[0m \u001b[1;33m**\u001b[0m\u001b[0mfit_params\u001b[0m\u001b[1;33m)\u001b[0m\u001b[1;33m:\u001b[0m\u001b[1;33m\u001b[0m\u001b[1;33m\u001b[0m\u001b[0m\n",
      "\u001b[1;32m~\\anaconda3\\envs\\deepl\\lib\\site-packages\\sklearn\\feature_selection\\_rfe.py\u001b[0m in \u001b[0;36m_fit\u001b[1;34m(self, X, y, step_score, **fit_params)\u001b[0m\n\u001b[0;32m    281\u001b[0m                 \u001b[0mprint\u001b[0m\u001b[1;33m(\u001b[0m\u001b[1;34m\"Fitting estimator with %d features.\"\u001b[0m \u001b[1;33m%\u001b[0m \u001b[0mnp\u001b[0m\u001b[1;33m.\u001b[0m\u001b[0msum\u001b[0m\u001b[1;33m(\u001b[0m\u001b[0msupport_\u001b[0m\u001b[1;33m)\u001b[0m\u001b[1;33m)\u001b[0m\u001b[1;33m\u001b[0m\u001b[1;33m\u001b[0m\u001b[0m\n\u001b[0;32m    282\u001b[0m \u001b[1;33m\u001b[0m\u001b[0m\n\u001b[1;32m--> 283\u001b[1;33m             \u001b[0mestimator\u001b[0m\u001b[1;33m.\u001b[0m\u001b[0mfit\u001b[0m\u001b[1;33m(\u001b[0m\u001b[0mX\u001b[0m\u001b[1;33m[\u001b[0m\u001b[1;33m:\u001b[0m\u001b[1;33m,\u001b[0m \u001b[0mfeatures\u001b[0m\u001b[1;33m]\u001b[0m\u001b[1;33m,\u001b[0m \u001b[0my\u001b[0m\u001b[1;33m,\u001b[0m \u001b[1;33m**\u001b[0m\u001b[0mfit_params\u001b[0m\u001b[1;33m)\u001b[0m\u001b[1;33m\u001b[0m\u001b[1;33m\u001b[0m\u001b[0m\n\u001b[0m\u001b[0;32m    284\u001b[0m \u001b[1;33m\u001b[0m\u001b[0m\n\u001b[0;32m    285\u001b[0m             \u001b[1;31m# Get importance and rank them\u001b[0m\u001b[1;33m\u001b[0m\u001b[1;33m\u001b[0m\u001b[0m\n",
      "\u001b[1;32m~\\anaconda3\\envs\\deepl\\lib\\site-packages\\sklearn\\ensemble\\_forest.py\u001b[0m in \u001b[0;36mfit\u001b[1;34m(self, X, y, sample_weight)\u001b[0m\n\u001b[0;32m    440\u001b[0m             \u001b[1;31m# parallel_backend contexts set at a higher level,\u001b[0m\u001b[1;33m\u001b[0m\u001b[1;33m\u001b[0m\u001b[0m\n\u001b[0;32m    441\u001b[0m             \u001b[1;31m# since correctness does not rely on using threads.\u001b[0m\u001b[1;33m\u001b[0m\u001b[1;33m\u001b[0m\u001b[0m\n\u001b[1;32m--> 442\u001b[1;33m             trees = Parallel(\n\u001b[0m\u001b[0;32m    443\u001b[0m                 \u001b[0mn_jobs\u001b[0m\u001b[1;33m=\u001b[0m\u001b[0mself\u001b[0m\u001b[1;33m.\u001b[0m\u001b[0mn_jobs\u001b[0m\u001b[1;33m,\u001b[0m\u001b[1;33m\u001b[0m\u001b[1;33m\u001b[0m\u001b[0m\n\u001b[0;32m    444\u001b[0m                 \u001b[0mverbose\u001b[0m\u001b[1;33m=\u001b[0m\u001b[0mself\u001b[0m\u001b[1;33m.\u001b[0m\u001b[0mverbose\u001b[0m\u001b[1;33m,\u001b[0m\u001b[1;33m\u001b[0m\u001b[1;33m\u001b[0m\u001b[0m\n",
      "\u001b[1;32m~\\anaconda3\\envs\\deepl\\lib\\site-packages\\joblib\\parallel.py\u001b[0m in \u001b[0;36m__call__\u001b[1;34m(self, iterable)\u001b[0m\n\u001b[0;32m   1049\u001b[0m                 \u001b[0mself\u001b[0m\u001b[1;33m.\u001b[0m\u001b[0m_iterating\u001b[0m \u001b[1;33m=\u001b[0m \u001b[0mself\u001b[0m\u001b[1;33m.\u001b[0m\u001b[0m_original_iterator\u001b[0m \u001b[1;32mis\u001b[0m \u001b[1;32mnot\u001b[0m \u001b[1;32mNone\u001b[0m\u001b[1;33m\u001b[0m\u001b[1;33m\u001b[0m\u001b[0m\n\u001b[0;32m   1050\u001b[0m \u001b[1;33m\u001b[0m\u001b[0m\n\u001b[1;32m-> 1051\u001b[1;33m             \u001b[1;32mwhile\u001b[0m \u001b[0mself\u001b[0m\u001b[1;33m.\u001b[0m\u001b[0mdispatch_one_batch\u001b[0m\u001b[1;33m(\u001b[0m\u001b[0miterator\u001b[0m\u001b[1;33m)\u001b[0m\u001b[1;33m:\u001b[0m\u001b[1;33m\u001b[0m\u001b[1;33m\u001b[0m\u001b[0m\n\u001b[0m\u001b[0;32m   1052\u001b[0m                 \u001b[1;32mpass\u001b[0m\u001b[1;33m\u001b[0m\u001b[1;33m\u001b[0m\u001b[0m\n\u001b[0;32m   1053\u001b[0m \u001b[1;33m\u001b[0m\u001b[0m\n",
      "\u001b[1;32m~\\anaconda3\\envs\\deepl\\lib\\site-packages\\joblib\\parallel.py\u001b[0m in \u001b[0;36mdispatch_one_batch\u001b[1;34m(self, iterator)\u001b[0m\n\u001b[0;32m    864\u001b[0m                 \u001b[1;32mreturn\u001b[0m \u001b[1;32mFalse\u001b[0m\u001b[1;33m\u001b[0m\u001b[1;33m\u001b[0m\u001b[0m\n\u001b[0;32m    865\u001b[0m             \u001b[1;32melse\u001b[0m\u001b[1;33m:\u001b[0m\u001b[1;33m\u001b[0m\u001b[1;33m\u001b[0m\u001b[0m\n\u001b[1;32m--> 866\u001b[1;33m                 \u001b[0mself\u001b[0m\u001b[1;33m.\u001b[0m\u001b[0m_dispatch\u001b[0m\u001b[1;33m(\u001b[0m\u001b[0mtasks\u001b[0m\u001b[1;33m)\u001b[0m\u001b[1;33m\u001b[0m\u001b[1;33m\u001b[0m\u001b[0m\n\u001b[0m\u001b[0;32m    867\u001b[0m                 \u001b[1;32mreturn\u001b[0m \u001b[1;32mTrue\u001b[0m\u001b[1;33m\u001b[0m\u001b[1;33m\u001b[0m\u001b[0m\n\u001b[0;32m    868\u001b[0m \u001b[1;33m\u001b[0m\u001b[0m\n",
      "\u001b[1;32m~\\anaconda3\\envs\\deepl\\lib\\site-packages\\joblib\\parallel.py\u001b[0m in \u001b[0;36m_dispatch\u001b[1;34m(self, batch)\u001b[0m\n\u001b[0;32m    782\u001b[0m         \u001b[1;32mwith\u001b[0m \u001b[0mself\u001b[0m\u001b[1;33m.\u001b[0m\u001b[0m_lock\u001b[0m\u001b[1;33m:\u001b[0m\u001b[1;33m\u001b[0m\u001b[1;33m\u001b[0m\u001b[0m\n\u001b[0;32m    783\u001b[0m             \u001b[0mjob_idx\u001b[0m \u001b[1;33m=\u001b[0m \u001b[0mlen\u001b[0m\u001b[1;33m(\u001b[0m\u001b[0mself\u001b[0m\u001b[1;33m.\u001b[0m\u001b[0m_jobs\u001b[0m\u001b[1;33m)\u001b[0m\u001b[1;33m\u001b[0m\u001b[1;33m\u001b[0m\u001b[0m\n\u001b[1;32m--> 784\u001b[1;33m             \u001b[0mjob\u001b[0m \u001b[1;33m=\u001b[0m \u001b[0mself\u001b[0m\u001b[1;33m.\u001b[0m\u001b[0m_backend\u001b[0m\u001b[1;33m.\u001b[0m\u001b[0mapply_async\u001b[0m\u001b[1;33m(\u001b[0m\u001b[0mbatch\u001b[0m\u001b[1;33m,\u001b[0m \u001b[0mcallback\u001b[0m\u001b[1;33m=\u001b[0m\u001b[0mcb\u001b[0m\u001b[1;33m)\u001b[0m\u001b[1;33m\u001b[0m\u001b[1;33m\u001b[0m\u001b[0m\n\u001b[0m\u001b[0;32m    785\u001b[0m             \u001b[1;31m# A job can complete so quickly than its callback is\u001b[0m\u001b[1;33m\u001b[0m\u001b[1;33m\u001b[0m\u001b[0m\n\u001b[0;32m    786\u001b[0m             \u001b[1;31m# called before we get here, causing self._jobs to\u001b[0m\u001b[1;33m\u001b[0m\u001b[1;33m\u001b[0m\u001b[0m\n",
      "\u001b[1;32m~\\anaconda3\\envs\\deepl\\lib\\site-packages\\joblib\\_parallel_backends.py\u001b[0m in \u001b[0;36mapply_async\u001b[1;34m(self, func, callback)\u001b[0m\n\u001b[0;32m    206\u001b[0m     \u001b[1;32mdef\u001b[0m \u001b[0mapply_async\u001b[0m\u001b[1;33m(\u001b[0m\u001b[0mself\u001b[0m\u001b[1;33m,\u001b[0m \u001b[0mfunc\u001b[0m\u001b[1;33m,\u001b[0m \u001b[0mcallback\u001b[0m\u001b[1;33m=\u001b[0m\u001b[1;32mNone\u001b[0m\u001b[1;33m)\u001b[0m\u001b[1;33m:\u001b[0m\u001b[1;33m\u001b[0m\u001b[1;33m\u001b[0m\u001b[0m\n\u001b[0;32m    207\u001b[0m         \u001b[1;34m\"\"\"Schedule a func to be run\"\"\"\u001b[0m\u001b[1;33m\u001b[0m\u001b[1;33m\u001b[0m\u001b[0m\n\u001b[1;32m--> 208\u001b[1;33m         \u001b[0mresult\u001b[0m \u001b[1;33m=\u001b[0m \u001b[0mImmediateResult\u001b[0m\u001b[1;33m(\u001b[0m\u001b[0mfunc\u001b[0m\u001b[1;33m)\u001b[0m\u001b[1;33m\u001b[0m\u001b[1;33m\u001b[0m\u001b[0m\n\u001b[0m\u001b[0;32m    209\u001b[0m         \u001b[1;32mif\u001b[0m \u001b[0mcallback\u001b[0m\u001b[1;33m:\u001b[0m\u001b[1;33m\u001b[0m\u001b[1;33m\u001b[0m\u001b[0m\n\u001b[0;32m    210\u001b[0m             \u001b[0mcallback\u001b[0m\u001b[1;33m(\u001b[0m\u001b[0mresult\u001b[0m\u001b[1;33m)\u001b[0m\u001b[1;33m\u001b[0m\u001b[1;33m\u001b[0m\u001b[0m\n",
      "\u001b[1;32m~\\anaconda3\\envs\\deepl\\lib\\site-packages\\joblib\\_parallel_backends.py\u001b[0m in \u001b[0;36m__init__\u001b[1;34m(self, batch)\u001b[0m\n\u001b[0;32m    570\u001b[0m         \u001b[1;31m# Don't delay the application, to avoid keeping the input\u001b[0m\u001b[1;33m\u001b[0m\u001b[1;33m\u001b[0m\u001b[0m\n\u001b[0;32m    571\u001b[0m         \u001b[1;31m# arguments in memory\u001b[0m\u001b[1;33m\u001b[0m\u001b[1;33m\u001b[0m\u001b[0m\n\u001b[1;32m--> 572\u001b[1;33m         \u001b[0mself\u001b[0m\u001b[1;33m.\u001b[0m\u001b[0mresults\u001b[0m \u001b[1;33m=\u001b[0m \u001b[0mbatch\u001b[0m\u001b[1;33m(\u001b[0m\u001b[1;33m)\u001b[0m\u001b[1;33m\u001b[0m\u001b[1;33m\u001b[0m\u001b[0m\n\u001b[0m\u001b[0;32m    573\u001b[0m \u001b[1;33m\u001b[0m\u001b[0m\n\u001b[0;32m    574\u001b[0m     \u001b[1;32mdef\u001b[0m \u001b[0mget\u001b[0m\u001b[1;33m(\u001b[0m\u001b[0mself\u001b[0m\u001b[1;33m)\u001b[0m\u001b[1;33m:\u001b[0m\u001b[1;33m\u001b[0m\u001b[1;33m\u001b[0m\u001b[0m\n",
      "\u001b[1;32m~\\anaconda3\\envs\\deepl\\lib\\site-packages\\joblib\\parallel.py\u001b[0m in \u001b[0;36m__call__\u001b[1;34m(self)\u001b[0m\n\u001b[0;32m    260\u001b[0m         \u001b[1;31m# change the default number of processes to -1\u001b[0m\u001b[1;33m\u001b[0m\u001b[1;33m\u001b[0m\u001b[0m\n\u001b[0;32m    261\u001b[0m         \u001b[1;32mwith\u001b[0m \u001b[0mparallel_backend\u001b[0m\u001b[1;33m(\u001b[0m\u001b[0mself\u001b[0m\u001b[1;33m.\u001b[0m\u001b[0m_backend\u001b[0m\u001b[1;33m,\u001b[0m \u001b[0mn_jobs\u001b[0m\u001b[1;33m=\u001b[0m\u001b[0mself\u001b[0m\u001b[1;33m.\u001b[0m\u001b[0m_n_jobs\u001b[0m\u001b[1;33m)\u001b[0m\u001b[1;33m:\u001b[0m\u001b[1;33m\u001b[0m\u001b[1;33m\u001b[0m\u001b[0m\n\u001b[1;32m--> 262\u001b[1;33m             return [func(*args, **kwargs)\n\u001b[0m\u001b[0;32m    263\u001b[0m                     for func, args, kwargs in self.items]\n\u001b[0;32m    264\u001b[0m \u001b[1;33m\u001b[0m\u001b[0m\n",
      "\u001b[1;32m~\\anaconda3\\envs\\deepl\\lib\\site-packages\\joblib\\parallel.py\u001b[0m in \u001b[0;36m<listcomp>\u001b[1;34m(.0)\u001b[0m\n\u001b[0;32m    260\u001b[0m         \u001b[1;31m# change the default number of processes to -1\u001b[0m\u001b[1;33m\u001b[0m\u001b[1;33m\u001b[0m\u001b[0m\n\u001b[0;32m    261\u001b[0m         \u001b[1;32mwith\u001b[0m \u001b[0mparallel_backend\u001b[0m\u001b[1;33m(\u001b[0m\u001b[0mself\u001b[0m\u001b[1;33m.\u001b[0m\u001b[0m_backend\u001b[0m\u001b[1;33m,\u001b[0m \u001b[0mn_jobs\u001b[0m\u001b[1;33m=\u001b[0m\u001b[0mself\u001b[0m\u001b[1;33m.\u001b[0m\u001b[0m_n_jobs\u001b[0m\u001b[1;33m)\u001b[0m\u001b[1;33m:\u001b[0m\u001b[1;33m\u001b[0m\u001b[1;33m\u001b[0m\u001b[0m\n\u001b[1;32m--> 262\u001b[1;33m             return [func(*args, **kwargs)\n\u001b[0m\u001b[0;32m    263\u001b[0m                     for func, args, kwargs in self.items]\n\u001b[0;32m    264\u001b[0m \u001b[1;33m\u001b[0m\u001b[0m\n",
      "\u001b[1;32m~\\anaconda3\\envs\\deepl\\lib\\site-packages\\sklearn\\utils\\fixes.py\u001b[0m in \u001b[0;36m__call__\u001b[1;34m(self, *args, **kwargs)\u001b[0m\n\u001b[0;32m    209\u001b[0m     \u001b[1;32mdef\u001b[0m \u001b[0m__call__\u001b[0m\u001b[1;33m(\u001b[0m\u001b[0mself\u001b[0m\u001b[1;33m,\u001b[0m \u001b[1;33m*\u001b[0m\u001b[0margs\u001b[0m\u001b[1;33m,\u001b[0m \u001b[1;33m**\u001b[0m\u001b[0mkwargs\u001b[0m\u001b[1;33m)\u001b[0m\u001b[1;33m:\u001b[0m\u001b[1;33m\u001b[0m\u001b[1;33m\u001b[0m\u001b[0m\n\u001b[0;32m    210\u001b[0m         \u001b[1;32mwith\u001b[0m \u001b[0mconfig_context\u001b[0m\u001b[1;33m(\u001b[0m\u001b[1;33m**\u001b[0m\u001b[0mself\u001b[0m\u001b[1;33m.\u001b[0m\u001b[0mconfig\u001b[0m\u001b[1;33m)\u001b[0m\u001b[1;33m:\u001b[0m\u001b[1;33m\u001b[0m\u001b[1;33m\u001b[0m\u001b[0m\n\u001b[1;32m--> 211\u001b[1;33m             \u001b[1;32mreturn\u001b[0m \u001b[0mself\u001b[0m\u001b[1;33m.\u001b[0m\u001b[0mfunction\u001b[0m\u001b[1;33m(\u001b[0m\u001b[1;33m*\u001b[0m\u001b[0margs\u001b[0m\u001b[1;33m,\u001b[0m \u001b[1;33m**\u001b[0m\u001b[0mkwargs\u001b[0m\u001b[1;33m)\u001b[0m\u001b[1;33m\u001b[0m\u001b[1;33m\u001b[0m\u001b[0m\n\u001b[0m\u001b[0;32m    212\u001b[0m \u001b[1;33m\u001b[0m\u001b[0m\n\u001b[0;32m    213\u001b[0m \u001b[1;33m\u001b[0m\u001b[0m\n",
      "\u001b[1;32m~\\anaconda3\\envs\\deepl\\lib\\site-packages\\sklearn\\ensemble\\_forest.py\u001b[0m in \u001b[0;36m_parallel_build_trees\u001b[1;34m(tree, forest, X, y, sample_weight, tree_idx, n_trees, verbose, class_weight, n_samples_bootstrap)\u001b[0m\n\u001b[0;32m    183\u001b[0m             \u001b[0mcurr_sample_weight\u001b[0m \u001b[1;33m*=\u001b[0m \u001b[0mcompute_sample_weight\u001b[0m\u001b[1;33m(\u001b[0m\u001b[1;34m\"balanced\"\u001b[0m\u001b[1;33m,\u001b[0m \u001b[0my\u001b[0m\u001b[1;33m,\u001b[0m \u001b[0mindices\u001b[0m\u001b[1;33m=\u001b[0m\u001b[0mindices\u001b[0m\u001b[1;33m)\u001b[0m\u001b[1;33m\u001b[0m\u001b[1;33m\u001b[0m\u001b[0m\n\u001b[0;32m    184\u001b[0m \u001b[1;33m\u001b[0m\u001b[0m\n\u001b[1;32m--> 185\u001b[1;33m         \u001b[0mtree\u001b[0m\u001b[1;33m.\u001b[0m\u001b[0mfit\u001b[0m\u001b[1;33m(\u001b[0m\u001b[0mX\u001b[0m\u001b[1;33m,\u001b[0m \u001b[0my\u001b[0m\u001b[1;33m,\u001b[0m \u001b[0msample_weight\u001b[0m\u001b[1;33m=\u001b[0m\u001b[0mcurr_sample_weight\u001b[0m\u001b[1;33m,\u001b[0m \u001b[0mcheck_input\u001b[0m\u001b[1;33m=\u001b[0m\u001b[1;32mFalse\u001b[0m\u001b[1;33m)\u001b[0m\u001b[1;33m\u001b[0m\u001b[1;33m\u001b[0m\u001b[0m\n\u001b[0m\u001b[0;32m    186\u001b[0m     \u001b[1;32melse\u001b[0m\u001b[1;33m:\u001b[0m\u001b[1;33m\u001b[0m\u001b[1;33m\u001b[0m\u001b[0m\n\u001b[0;32m    187\u001b[0m         \u001b[0mtree\u001b[0m\u001b[1;33m.\u001b[0m\u001b[0mfit\u001b[0m\u001b[1;33m(\u001b[0m\u001b[0mX\u001b[0m\u001b[1;33m,\u001b[0m \u001b[0my\u001b[0m\u001b[1;33m,\u001b[0m \u001b[0msample_weight\u001b[0m\u001b[1;33m=\u001b[0m\u001b[0msample_weight\u001b[0m\u001b[1;33m,\u001b[0m \u001b[0mcheck_input\u001b[0m\u001b[1;33m=\u001b[0m\u001b[1;32mFalse\u001b[0m\u001b[1;33m)\u001b[0m\u001b[1;33m\u001b[0m\u001b[1;33m\u001b[0m\u001b[0m\n",
      "\u001b[1;32m~\\anaconda3\\envs\\deepl\\lib\\site-packages\\sklearn\\tree\\_classes.py\u001b[0m in \u001b[0;36mfit\u001b[1;34m(self, X, y, sample_weight, check_input, X_idx_sorted)\u001b[0m\n\u001b[0;32m    935\u001b[0m         \"\"\"\n\u001b[0;32m    936\u001b[0m \u001b[1;33m\u001b[0m\u001b[0m\n\u001b[1;32m--> 937\u001b[1;33m         super().fit(\n\u001b[0m\u001b[0;32m    938\u001b[0m             \u001b[0mX\u001b[0m\u001b[1;33m,\u001b[0m\u001b[1;33m\u001b[0m\u001b[1;33m\u001b[0m\u001b[0m\n\u001b[0;32m    939\u001b[0m             \u001b[0my\u001b[0m\u001b[1;33m,\u001b[0m\u001b[1;33m\u001b[0m\u001b[1;33m\u001b[0m\u001b[0m\n",
      "\u001b[1;32m~\\anaconda3\\envs\\deepl\\lib\\site-packages\\sklearn\\tree\\_classes.py\u001b[0m in \u001b[0;36mfit\u001b[1;34m(self, X, y, sample_weight, check_input, X_idx_sorted)\u001b[0m\n\u001b[0;32m    212\u001b[0m             \u001b[0my_encoded\u001b[0m \u001b[1;33m=\u001b[0m \u001b[0mnp\u001b[0m\u001b[1;33m.\u001b[0m\u001b[0mzeros\u001b[0m\u001b[1;33m(\u001b[0m\u001b[0my\u001b[0m\u001b[1;33m.\u001b[0m\u001b[0mshape\u001b[0m\u001b[1;33m,\u001b[0m \u001b[0mdtype\u001b[0m\u001b[1;33m=\u001b[0m\u001b[0mint\u001b[0m\u001b[1;33m)\u001b[0m\u001b[1;33m\u001b[0m\u001b[1;33m\u001b[0m\u001b[0m\n\u001b[0;32m    213\u001b[0m             \u001b[1;32mfor\u001b[0m \u001b[0mk\u001b[0m \u001b[1;32min\u001b[0m \u001b[0mrange\u001b[0m\u001b[1;33m(\u001b[0m\u001b[0mself\u001b[0m\u001b[1;33m.\u001b[0m\u001b[0mn_outputs_\u001b[0m\u001b[1;33m)\u001b[0m\u001b[1;33m:\u001b[0m\u001b[1;33m\u001b[0m\u001b[1;33m\u001b[0m\u001b[0m\n\u001b[1;32m--> 214\u001b[1;33m                 \u001b[0mclasses_k\u001b[0m\u001b[1;33m,\u001b[0m \u001b[0my_encoded\u001b[0m\u001b[1;33m[\u001b[0m\u001b[1;33m:\u001b[0m\u001b[1;33m,\u001b[0m \u001b[0mk\u001b[0m\u001b[1;33m]\u001b[0m \u001b[1;33m=\u001b[0m \u001b[0mnp\u001b[0m\u001b[1;33m.\u001b[0m\u001b[0munique\u001b[0m\u001b[1;33m(\u001b[0m\u001b[0my\u001b[0m\u001b[1;33m[\u001b[0m\u001b[1;33m:\u001b[0m\u001b[1;33m,\u001b[0m \u001b[0mk\u001b[0m\u001b[1;33m]\u001b[0m\u001b[1;33m,\u001b[0m \u001b[0mreturn_inverse\u001b[0m\u001b[1;33m=\u001b[0m\u001b[1;32mTrue\u001b[0m\u001b[1;33m)\u001b[0m\u001b[1;33m\u001b[0m\u001b[1;33m\u001b[0m\u001b[0m\n\u001b[0m\u001b[0;32m    215\u001b[0m                 \u001b[0mself\u001b[0m\u001b[1;33m.\u001b[0m\u001b[0mclasses_\u001b[0m\u001b[1;33m.\u001b[0m\u001b[0mappend\u001b[0m\u001b[1;33m(\u001b[0m\u001b[0mclasses_k\u001b[0m\u001b[1;33m)\u001b[0m\u001b[1;33m\u001b[0m\u001b[1;33m\u001b[0m\u001b[0m\n\u001b[0;32m    216\u001b[0m                 \u001b[0mself\u001b[0m\u001b[1;33m.\u001b[0m\u001b[0mn_classes_\u001b[0m\u001b[1;33m.\u001b[0m\u001b[0mappend\u001b[0m\u001b[1;33m(\u001b[0m\u001b[0mclasses_k\u001b[0m\u001b[1;33m.\u001b[0m\u001b[0mshape\u001b[0m\u001b[1;33m[\u001b[0m\u001b[1;36m0\u001b[0m\u001b[1;33m]\u001b[0m\u001b[1;33m)\u001b[0m\u001b[1;33m\u001b[0m\u001b[1;33m\u001b[0m\u001b[0m\n",
      "\u001b[1;32m<__array_function__ internals>\u001b[0m in \u001b[0;36munique\u001b[1;34m(*args, **kwargs)\u001b[0m\n",
      "\u001b[1;32m~\\anaconda3\\envs\\deepl\\lib\\site-packages\\numpy\\lib\\arraysetops.py\u001b[0m in \u001b[0;36munique\u001b[1;34m(ar, return_index, return_inverse, return_counts, axis)\u001b[0m\n\u001b[0;32m    270\u001b[0m     \u001b[0mar\u001b[0m \u001b[1;33m=\u001b[0m \u001b[0mnp\u001b[0m\u001b[1;33m.\u001b[0m\u001b[0masanyarray\u001b[0m\u001b[1;33m(\u001b[0m\u001b[0mar\u001b[0m\u001b[1;33m)\u001b[0m\u001b[1;33m\u001b[0m\u001b[1;33m\u001b[0m\u001b[0m\n\u001b[0;32m    271\u001b[0m     \u001b[1;32mif\u001b[0m \u001b[0maxis\u001b[0m \u001b[1;32mis\u001b[0m \u001b[1;32mNone\u001b[0m\u001b[1;33m:\u001b[0m\u001b[1;33m\u001b[0m\u001b[1;33m\u001b[0m\u001b[0m\n\u001b[1;32m--> 272\u001b[1;33m         \u001b[0mret\u001b[0m \u001b[1;33m=\u001b[0m \u001b[0m_unique1d\u001b[0m\u001b[1;33m(\u001b[0m\u001b[0mar\u001b[0m\u001b[1;33m,\u001b[0m \u001b[0mreturn_index\u001b[0m\u001b[1;33m,\u001b[0m \u001b[0mreturn_inverse\u001b[0m\u001b[1;33m,\u001b[0m \u001b[0mreturn_counts\u001b[0m\u001b[1;33m)\u001b[0m\u001b[1;33m\u001b[0m\u001b[1;33m\u001b[0m\u001b[0m\n\u001b[0m\u001b[0;32m    273\u001b[0m         \u001b[1;32mreturn\u001b[0m \u001b[0m_unpack_tuple\u001b[0m\u001b[1;33m(\u001b[0m\u001b[0mret\u001b[0m\u001b[1;33m)\u001b[0m\u001b[1;33m\u001b[0m\u001b[1;33m\u001b[0m\u001b[0m\n\u001b[0;32m    274\u001b[0m \u001b[1;33m\u001b[0m\u001b[0m\n",
      "\u001b[1;32m~\\anaconda3\\envs\\deepl\\lib\\site-packages\\numpy\\lib\\arraysetops.py\u001b[0m in \u001b[0;36m_unique1d\u001b[1;34m(ar, return_index, return_inverse, return_counts)\u001b[0m\n\u001b[0;32m    328\u001b[0m \u001b[1;33m\u001b[0m\u001b[0m\n\u001b[0;32m    329\u001b[0m     \u001b[1;32mif\u001b[0m \u001b[0moptional_indices\u001b[0m\u001b[1;33m:\u001b[0m\u001b[1;33m\u001b[0m\u001b[1;33m\u001b[0m\u001b[0m\n\u001b[1;32m--> 330\u001b[1;33m         \u001b[0mperm\u001b[0m \u001b[1;33m=\u001b[0m \u001b[0mar\u001b[0m\u001b[1;33m.\u001b[0m\u001b[0margsort\u001b[0m\u001b[1;33m(\u001b[0m\u001b[0mkind\u001b[0m\u001b[1;33m=\u001b[0m\u001b[1;34m'mergesort'\u001b[0m \u001b[1;32mif\u001b[0m \u001b[0mreturn_index\u001b[0m \u001b[1;32melse\u001b[0m \u001b[1;34m'quicksort'\u001b[0m\u001b[1;33m)\u001b[0m\u001b[1;33m\u001b[0m\u001b[1;33m\u001b[0m\u001b[0m\n\u001b[0m\u001b[0;32m    331\u001b[0m         \u001b[0maux\u001b[0m \u001b[1;33m=\u001b[0m \u001b[0mar\u001b[0m\u001b[1;33m[\u001b[0m\u001b[0mperm\u001b[0m\u001b[1;33m]\u001b[0m\u001b[1;33m\u001b[0m\u001b[1;33m\u001b[0m\u001b[0m\n\u001b[0;32m    332\u001b[0m     \u001b[1;32melse\u001b[0m\u001b[1;33m:\u001b[0m\u001b[1;33m\u001b[0m\u001b[1;33m\u001b[0m\u001b[0m\n",
      "\u001b[1;31mKeyboardInterrupt\u001b[0m: "
     ]
    }
   ],
   "source": [
    "X_ref100 = apply_rfe(X_train,Y_train,threshold = 100)\n",
    "\n",
    "X_train_f100, X_test_f100, y_train_f100, y_test_f100 = split_data(X_ref100,Y_train)\n",
    "train_predict(X_train_f100, X_test_f100, y_train_f100, y_test_f100, \"REF 100\")  #### REF 100"
   ]
  },
  {
   "cell_type": "code",
   "execution_count": null,
   "id": "c2507c9f",
   "metadata": {},
   "outputs": [],
   "source": [
    "X_ref10 = apply_rfe(X_train,Y_train,threshold = 10)\n",
    "\n",
    "X_train_f10, X_test_f10, y_train_f10, y_test_f10 = split_data(X_ref10,Y_train)\n",
    "train_predict(X_train_f10, X_test_f10, y_train_f10, y_test_f10, \"REF 10\")  #### REF 10"
   ]
  },
  {
   "cell_type": "code",
   "execution_count": 41,
   "id": "df9657a5",
   "metadata": {},
   "outputs": [
    {
     "name": "stderr",
     "output_type": "stream",
     "text": [
      "C:\\Users\\X1\\anaconda3\\envs\\deepl\\lib\\site-packages\\sklearn\\utils\\validation.py:985: DataConversionWarning: A column-vector y was passed when a 1d array was expected. Please change the shape of y to (n_samples, ), for example using ravel().\n",
      "  y = column_or_1d(y, warn=True)\n"
     ]
    },
    {
     "data": {
      "text/plain": [
       "SVC()"
      ]
     },
     "execution_count": 41,
     "metadata": {},
     "output_type": "execute_result"
    }
   ],
   "source": [
    "## best performance \n",
    "#X_pca95 =  applyPCA(X_train,p=.95)\n",
    "\n",
    "from sklearn.svm import SVC\n",
    "\n",
    "svclassifier = SVC(kernel='rbf') #0.9591836734693877\n",
    "t0 = time()\n",
    "svclassifier.fit(X_train, Y_train) \n",
    "#X_pca95.shape"
   ]
  },
  {
   "cell_type": "code",
   "execution_count": 42,
   "id": "0de8cc4f",
   "metadata": {},
   "outputs": [
    {
     "data": {
      "text/plain": [
       "(42000, 784)"
      ]
     },
     "execution_count": 42,
     "metadata": {},
     "output_type": "execute_result"
    }
   ],
   "source": [
    "X_train.shape"
   ]
  },
  {
   "cell_type": "code",
   "execution_count": 43,
   "id": "0f52c838",
   "metadata": {},
   "outputs": [
    {
     "data": {
      "text/plain": [
       "(28000, 784)"
      ]
     },
     "execution_count": 43,
     "metadata": {},
     "output_type": "execute_result"
    }
   ],
   "source": [
    "X_test.shape"
   ]
  },
  {
   "cell_type": "code",
   "execution_count": 44,
   "id": "8b660735",
   "metadata": {},
   "outputs": [],
   "source": [
    "#X_testpca =  applyPCA (X_test,p=.95)\n",
    "#X_testpca.shape\n"
   ]
  },
  {
   "cell_type": "code",
   "execution_count": 45,
   "id": "a81f9772",
   "metadata": {},
   "outputs": [
    {
     "data": {
      "text/html": [
       "<div>\n",
       "<style scoped>\n",
       "    .dataframe tbody tr th:only-of-type {\n",
       "        vertical-align: middle;\n",
       "    }\n",
       "\n",
       "    .dataframe tbody tr th {\n",
       "        vertical-align: top;\n",
       "    }\n",
       "\n",
       "    .dataframe thead th {\n",
       "        text-align: right;\n",
       "    }\n",
       "</style>\n",
       "<table border=\"1\" class=\"dataframe\">\n",
       "  <thead>\n",
       "    <tr style=\"text-align: right;\">\n",
       "      <th></th>\n",
       "      <th>ImageId</th>\n",
       "      <th>Label</th>\n",
       "    </tr>\n",
       "  </thead>\n",
       "  <tbody>\n",
       "    <tr>\n",
       "      <th>0</th>\n",
       "      <td>1</td>\n",
       "      <td>2</td>\n",
       "    </tr>\n",
       "    <tr>\n",
       "      <th>1</th>\n",
       "      <td>2</td>\n",
       "      <td>0</td>\n",
       "    </tr>\n",
       "    <tr>\n",
       "      <th>2</th>\n",
       "      <td>3</td>\n",
       "      <td>9</td>\n",
       "    </tr>\n",
       "    <tr>\n",
       "      <th>3</th>\n",
       "      <td>4</td>\n",
       "      <td>9</td>\n",
       "    </tr>\n",
       "    <tr>\n",
       "      <th>4</th>\n",
       "      <td>5</td>\n",
       "      <td>3</td>\n",
       "    </tr>\n",
       "    <tr>\n",
       "      <th>5</th>\n",
       "      <td>6</td>\n",
       "      <td>7</td>\n",
       "    </tr>\n",
       "    <tr>\n",
       "      <th>6</th>\n",
       "      <td>7</td>\n",
       "      <td>0</td>\n",
       "    </tr>\n",
       "    <tr>\n",
       "      <th>7</th>\n",
       "      <td>8</td>\n",
       "      <td>3</td>\n",
       "    </tr>\n",
       "    <tr>\n",
       "      <th>8</th>\n",
       "      <td>9</td>\n",
       "      <td>0</td>\n",
       "    </tr>\n",
       "    <tr>\n",
       "      <th>9</th>\n",
       "      <td>10</td>\n",
       "      <td>3</td>\n",
       "    </tr>\n",
       "    <tr>\n",
       "      <th>10</th>\n",
       "      <td>11</td>\n",
       "      <td>5</td>\n",
       "    </tr>\n",
       "    <tr>\n",
       "      <th>11</th>\n",
       "      <td>12</td>\n",
       "      <td>7</td>\n",
       "    </tr>\n",
       "    <tr>\n",
       "      <th>12</th>\n",
       "      <td>13</td>\n",
       "      <td>4</td>\n",
       "    </tr>\n",
       "    <tr>\n",
       "      <th>13</th>\n",
       "      <td>14</td>\n",
       "      <td>0</td>\n",
       "    </tr>\n",
       "    <tr>\n",
       "      <th>14</th>\n",
       "      <td>15</td>\n",
       "      <td>4</td>\n",
       "    </tr>\n",
       "    <tr>\n",
       "      <th>15</th>\n",
       "      <td>16</td>\n",
       "      <td>3</td>\n",
       "    </tr>\n",
       "    <tr>\n",
       "      <th>16</th>\n",
       "      <td>17</td>\n",
       "      <td>3</td>\n",
       "    </tr>\n",
       "    <tr>\n",
       "      <th>17</th>\n",
       "      <td>18</td>\n",
       "      <td>1</td>\n",
       "    </tr>\n",
       "    <tr>\n",
       "      <th>18</th>\n",
       "      <td>19</td>\n",
       "      <td>9</td>\n",
       "    </tr>\n",
       "    <tr>\n",
       "      <th>19</th>\n",
       "      <td>20</td>\n",
       "      <td>0</td>\n",
       "    </tr>\n",
       "  </tbody>\n",
       "</table>\n",
       "</div>"
      ],
      "text/plain": [
       "    ImageId  Label\n",
       "0         1      2\n",
       "1         2      0\n",
       "2         3      9\n",
       "3         4      9\n",
       "4         5      3\n",
       "5         6      7\n",
       "6         7      0\n",
       "7         8      3\n",
       "8         9      0\n",
       "9        10      3\n",
       "10       11      5\n",
       "11       12      7\n",
       "12       13      4\n",
       "13       14      0\n",
       "14       15      4\n",
       "15       16      3\n",
       "16       17      3\n",
       "17       18      1\n",
       "18       19      9\n",
       "19       20      0"
      ]
     },
     "execution_count": 45,
     "metadata": {},
     "output_type": "execute_result"
    }
   ],
   "source": [
    "\n",
    "y_pred = svclassifier.predict(X_test)\n",
    "id = range(1,28001)\n",
    "submission = pd.DataFrame(list(zip(id, y_pred)),columns =['ImageId', 'Label'])\n",
    "submission.head(20)"
   ]
  },
  {
   "cell_type": "code",
   "execution_count": 46,
   "id": "93954313",
   "metadata": {},
   "outputs": [],
   "source": [
    "submission.to_csv('C:/Users/X1/Desktop/master - S3/image-mining/ImageMining/my_submission.csv', index=False)"
   ]
  },
  {
   "cell_type": "code",
   "execution_count": null,
   "id": "9da2df3d",
   "metadata": {},
   "outputs": [],
   "source": []
  }
 ],
 "metadata": {
  "kernelspec": {
   "display_name": "Python 3 (ipykernel)",
   "language": "python",
   "name": "python3"
  },
  "language_info": {
   "codemirror_mode": {
    "name": "ipython",
    "version": 3
   },
   "file_extension": ".py",
   "mimetype": "text/x-python",
   "name": "python",
   "nbconvert_exporter": "python",
   "pygments_lexer": "ipython3",
   "version": "3.9.7"
  }
 },
 "nbformat": 4,
 "nbformat_minor": 5
}
